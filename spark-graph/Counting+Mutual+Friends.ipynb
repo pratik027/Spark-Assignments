{
 "cells": [
  {
   "cell_type": "code",
   "execution_count": 1,
   "metadata": {},
   "outputs": [
    {
     "name": "stdout",
     "output_type": "stream",
     "text": [
      "Welcome to\n",
      "      ____              __\n",
      "     / __/__  ___ _____/ /__\n",
      "    _\\ \\/ _ \\/ _ `/ __/  '_/\n",
      "   /__ / .__/\\_,_/_/ /_/\\_\\   version 2.1.1\n",
      "      /_/\n",
      "\n",
      "Using Python version 2.7.12 (default, Nov 19 2016 06:48:10)\n",
      "SparkSession available as 'spark'.\n"
     ]
    }
   ],
   "source": [
    "import os\n",
    "execfile(os.path.join(os.environ[\"SPARK_HOME\"], 'python/pyspark/shell.py'))"
   ]
  },
  {
   "cell_type": "markdown",
   "metadata": {},
   "source": [
    "## Read Input Data from parquet files"
   ]
  },
  {
   "cell_type": "code",
   "execution_count": 2,
   "metadata": {},
   "outputs": [
    {
     "name": "stdout",
     "output_type": "stream",
     "text": [
      "root\n",
      " |-- user: integer (nullable = true)\n",
      " |-- friends: array (nullable = true)\n",
      " |    |-- element: integer (containsNull = true)\n",
      "\n"
     ]
    }
   ],
   "source": [
    "from pyspark.sql import SparkSession\n",
    "from pyspark.sql.functions import explode, collect_list, size, col, row_number,sort_array\n",
    "from pyspark.sql import Window\n",
    "\n",
    "sparkSession = SparkSession.builder.enableHiveSupport().master(\"local [2]\").getOrCreate()\n",
    "\n",
    "graphPath = \"/data/graphDFSample\"\n",
    "reversedGraph = sparkSession.read.parquet(graphPath)\n",
    "reversedGraph.printSchema()"
   ]
  },
  {
   "cell_type": "markdown",
   "metadata": {},
   "source": [
    "## Map Friend to User List\n",
    "### Consider Friends connected to more than 1 user"
   ]
  },
  {
   "cell_type": "code",
   "execution_count": 11,
   "metadata": {},
   "outputs": [],
   "source": [
    "friend_to_user = reversedGraph.withColumn(\"friend\",explode(\"friends\")) \\\n",
    "    .groupBy(\"friend\") \\\n",
    "    .agg(collect_list(\"user\").alias(\"user_list\")) \\\n",
    "    .filter(size(\"user_list\")>1)\n",
    "    .select(sort_array(\"user_list\").alias(\"users\"))"
   ]
  },
  {
   "cell_type": "markdown",
   "metadata": {},
   "source": [
    "### UDF to pair of users connected to a friend"
   ]
  },
  {
   "cell_type": "code",
   "execution_count": 14,
   "metadata": {},
   "outputs": [],
   "source": [
    "from pyspark.sql.types import ArrayType,IntegerType\n",
    "from pyspark.sql.functions import udf\n",
    "\n",
    "def emit_pairs(array):\n",
    "    alen = len(array)\n",
    "    ans = []\n",
    "    for i in xrange(alen):\n",
    "        for j in xrange(i+1,alen):\n",
    "            ans.append([array[i],array[j]])\n",
    "    return ans\n",
    "\n",
    "pair_udf = udf(lambda x:emit_pairs(x),ArrayType(ArrayType(IntegerType())))"
   ]
  },
  {
   "cell_type": "markdown",
   "metadata": {},
   "source": [
    "## Call UDF to list of pairs & explode list"
   ]
  },
  {
   "cell_type": "code",
   "execution_count": 17,
   "metadata": {},
   "outputs": [],
   "source": [
    "answer = friend_to_user.select(pair_udf(\"users\").alias(\"pairs\")) \\\n",
    "    .withColumn(\"pair\",explode(\"pairs\")) \n",
    "answer = answer.select(answer[\"pair\"].getItem(0).alias(\"friend1\"),ans[\"pair\"].getItem(1).alias(\"friend2\"))"
   ]
  },
  {
   "cell_type": "markdown",
   "metadata": {},
   "source": [
    "#### Count repeatation number of pairs i.e. Mutual friends of pair"
   ]
  },
  {
   "cell_type": "code",
   "execution_count": 43,
   "metadata": {},
   "outputs": [],
   "source": [
    "answer.createTempView(\"answer\")\n",
    "sparkSession.sql(\"select friend1 ,friend2, count(1) as cnt from answer group by friend1 ,friend2 order by cnt\").show(10)"
   ]
  }
 ],
 "metadata": {
  "kernelspec": {
   "display_name": "Python 2",
   "language": "python",
   "name": "python2"
  },
  "language_info": {
   "codemirror_mode": {
    "name": "ipython",
    "version": 2
   },
   "file_extension": ".py",
   "mimetype": "text/x-python",
   "name": "python",
   "nbconvert_exporter": "python",
   "pygments_lexer": "ipython2",
   "version": "2.7.12"
  }
 },
 "nbformat": 4,
 "nbformat_minor": 2
}
