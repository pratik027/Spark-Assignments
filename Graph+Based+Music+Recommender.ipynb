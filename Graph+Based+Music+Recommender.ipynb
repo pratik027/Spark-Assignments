{
 "cells": [
  {
   "cell_type": "code",
   "execution_count": 95,
   "metadata": {},
   "outputs": [],
   "source": [
    "from pyspark.sql import Window, SparkSession\n",
    "from pyspark.sql.functions import explode, collect_list, size, col, row_number,lit,udf,sum\n",
    "from pyspark.sql.types import ArrayType,IntegerType\n",
    "import os\n"
   ]
  },
  {
   "cell_type": "code",
   "execution_count": 96,
   "metadata": {},
   "outputs": [
    {
     "name": "stdout",
     "output_type": "stream",
     "text": [
      "Welcome to\n",
      "      ____              __\n",
      "     / __/__  ___ _____/ /__\n",
      "    _\\ \\/ _ \\/ _ `/ __/  '_/\n",
      "   /__ / .__/\\_,_/_/ /_/\\_\\   version 2.1.1\n",
      "      /_/\n",
      "\n",
      "Using Python version 2.7.12 (default, Nov 19 2016 06:48:10)\n",
      "SparkSession available as 'spark'.\n"
     ]
    }
   ],
   "source": [
    "execfile(os.path.join(os.environ[\"SPARK_HOME\"], 'python/pyspark/shell.py'))\n",
    "sparkSession = SparkSession.builder.enableHiveSupport().master(\"local [2]\").getOrCreate()\n",
    "basedf = sparkSession.read.parquet(\"/data/sample264\").repartition(40)"
   ]
  },
  {
   "cell_type": "markdown",
   "metadata": {},
   "source": [
    "# Task 1\n",
    "#####  Build the edges of the type “track-track”. To do it you will need to count the collaborative similarity between all the tracks: if a user has started listening to track B within 7 minutes after starting track A, then you should add 1 to the weight of the edge from vertex A to vertex B (initial weight is equal to 0). \n",
    "##### Sort the resulting Data Frame in the descending order by the column norm_weight, and then in the ascending order this time first by “id1”, then by “id2”. Take top 40 rows, select only the columns “id1”, “id2”, and print the columns “id1”, “id2” of the resulting dataframe."
   ]
  },
  {
   "cell_type": "code",
   "execution_count": 71,
   "metadata": {},
   "outputs": [],
   "source": [
    "def weight(tm1,tm2):\n",
    "    if (tm2-tm1)<7*60:\n",
    "        return 1\n",
    "    return 0\n",
    "\n",
    "weightCal = udf(lambda x,y:weight(x,y),IntegerType())"
   ]
  },
  {
   "cell_type": "code",
   "execution_count": 81,
   "metadata": {},
   "outputs": [],
   "source": [
    "joinDF = basedf.alias(\"a\").join(basedf.alias(\"b\"), on=\"userId\") \\\n",
    "    .filter(\"a.trackId!=b.trackId and a.timestamp<b.timestamp\") \\\n",
    "    .withColumn(\"weight\",weightCal(\"a.timestamp\",\"b.timestamp\")).cache()\n",
    "weightedDF = joinDF.groupBy(\"a.trackId\",\"b.trackId\").sum(\"weight\").select(\"a.trackId\",\"b.trackId\",col(\"sum(weight)\").alias(\"grp_weight\")).cache()"
   ]
  },
  {
   "cell_type": "code",
   "execution_count": 82,
   "metadata": {},
   "outputs": [],
   "source": [
    "## Window function 1: top 50 & 2: top 40\n",
    "window = Window.partitionBy(\"a.trackId\").orderBy(col(\"grp_weight\").desc())\n",
    "part = Window.partitionBy(\"a.trackId\")\n",
    "orderW = Window.orderBy(col(\"norm_W\").desc())\n",
    "\n",
    "\"\"\"\n",
    "1. window for\n",
    "\"\"\"\n",
    "task1DF= weightedDF.withColumn(\"row_number\", row_number().over(window)) \\\n",
    "        .filter(col(\"row_number\") <= 50) \\\n",
    "        .withColumn(\"sct_weight\", sum(col(\"grp_weight\")).over(part)) \\\n",
    "        .withColumn(\"norm_w\", col(\"grp_weight\")/col(\"sct_weight\")) \\\n",
    "        .withColumn(\"ordered_rnum\", row_number().over(orderW)) \\\n",
    "        .filter(col(\"ordered_rnum\")<=40) \\\n",
    "        .select(\"a.trackId\",\"b.trackId\",\"norm_w\").cache()"
   ]
  },
  {
   "cell_type": "code",
   "execution_count": 83,
   "metadata": {},
   "outputs": [
    {
     "name": "stdout",
     "output_type": "stream",
     "text": [
      "+-------+-------+\n",
      "|trackId|trackId|\n",
      "+-------+-------+\n",
      "| 803197| 810149|\n",
      "| 803540| 904830|\n",
      "| 807146| 818096|\n",
      "| 813285| 935934|\n",
      "| 814192| 845924|\n",
      "| 816875| 821157|\n",
      "| 818210| 831204|\n",
      "| 824552| 913245|\n",
      "| 829407| 848614|\n",
      "| 831647| 922317|\n",
      "| 832512| 919212|\n",
      "| 833948| 936902|\n",
      "| 833951| 865598|\n",
      "| 835491| 888819|\n",
      "| 839453| 902331|\n",
      "| 841537| 824306|\n",
      "| 842850| 940362|\n",
      "| 844651| 897648|\n",
      "| 845675| 966405|\n",
      "| 847624| 805686|\n",
      "+-------+-------+\n",
      "only showing top 20 rows\n",
      "\n"
     ]
    }
   ],
   "source": [
    "#task1DF.groupBy(\"a.trackId\").sum(\"norm_w\").show()\n",
    "trackToTrack = task1DF.orderBy(col(\"norm_w\").desc(),col(\"a.trackId\"),col(\"b.trackId\")).select(\"a.trackId\",\"b.trackId\")\n",
    "trackToTrack.show()"
   ]
  },
  {
   "cell_type": "markdown",
   "metadata": {},
   "source": [
    "# task 2\n",
    "##### Build the edges of the type “user-track”. Take the amount of times the track was listened by the user as the weight of the edge from the user’s vertex to the track’s vertex.\n",
    "##### For each user take top-1000 and normalize them.\n",
    "##### Sort the resulting Data Frame in descending order by the column norm_weight, and then in ascending order this time first by “id1”, then by “id2”. Take top 40 rows, select only the columns “id1”, “id2”, and print the columns “id1”, “id2” of the resulting dataframe."
   ]
  },
  {
   "cell_type": "code",
   "execution_count": 80,
   "metadata": {},
   "outputs": [
    {
     "name": "stdout",
     "output_type": "stream",
     "text": [
      "+------+-------+-----+-------+-------+-----------+\n",
      "|userId|trackId|count|row_num|wt_user|norm_weight|\n",
      "+------+-------+-----+-------+-------+-----------+\n",
      "|    66| 965774|    1|      1|      1|        1.0|\n",
      "|   116| 867268|    1|      1|      1|        1.0|\n",
      "|   128| 852564|    1|      1|      1|        1.0|\n",
      "|   131| 880170|    1|      1|      1|        1.0|\n",
      "|   195| 946408|    5|      1|      5|        1.0|\n",
      "|   215| 860111|    1|      1|      1|        1.0|\n",
      "|   235| 897176|    1|      1|      1|        1.0|\n",
      "|   300| 857973|    1|      1|      1|        1.0|\n",
      "|   321| 915545|    1|      1|      1|        1.0|\n",
      "|   328| 943482|    1|      1|      1|        1.0|\n",
      "|   333| 818202|    1|      1|      1|        1.0|\n",
      "|   346| 864911|    1|      1|      1|        1.0|\n",
      "|   356| 961308|    1|      1|      1|        1.0|\n",
      "|   428| 943572|    3|      1|      3|        1.0|\n",
      "|   431| 902497|    1|      1|      1|        1.0|\n",
      "|   445| 831381|    1|      1|      1|        1.0|\n",
      "|   488| 841340|    2|      1|      2|        1.0|\n",
      "|   542| 815388|    2|      1|      2|        1.0|\n",
      "|   617| 946395|    1|      1|      1|        1.0|\n",
      "|   649| 901672|    1|      1|      1|        1.0|\n",
      "|   658| 937522|    1|      1|      1|        1.0|\n",
      "|   662| 881433|    1|      1|      1|        1.0|\n",
      "|   698| 935934|    1|      1|      1|        1.0|\n",
      "|   708| 952432|    1|      1|      1|        1.0|\n",
      "|   746| 879259|    1|      1|      1|        1.0|\n",
      "|   747| 879259|    1|      1|      1|        1.0|\n",
      "|   776| 946408|    2|      1|      2|        1.0|\n",
      "|   784| 806468|    2|      1|      2|        1.0|\n",
      "|   806| 866581|    1|      1|      1|        1.0|\n",
      "|   811| 948017|    1|      1|      1|        1.0|\n",
      "|   837| 799685|    1|      1|      1|        1.0|\n",
      "|   901| 871513|    1|      1|      1|        1.0|\n",
      "|   923| 879322|    1|      1|      1|        1.0|\n",
      "|   934| 940714|    2|      1|      2|        1.0|\n",
      "|   957| 945183|    1|      1|      1|        1.0|\n",
      "|   989| 878364|    1|      1|      1|        1.0|\n",
      "|   999| 967768|    1|      1|      1|        1.0|\n",
      "|  1006| 962774|    1|      1|      1|        1.0|\n",
      "|  1049| 849484|    1|      1|      1|        1.0|\n",
      "|  1057| 920458|    1|      1|      1|        1.0|\n",
      "+------+-------+-----+-------+-------+-----------+\n",
      "only showing top 40 rows\n",
      "\n"
     ]
    }
   ],
   "source": [
    "UTdf = basedf.groupBy(\"userId\",\"trackId\").count()\n",
    "win = Window.partitionBy(\"userId\").orderBy(col(\"count\").desc())\n",
    "part = Window.partitionBy(\"userId\")\n",
    "\n",
    "task2DF  = UTdf.withColumn(\"row_num\",row_number().over(win)).filter(\"row_num<=1000\") \\\n",
    "    .withColumn(\"wt_user\",sum(\"count\").over(part)) \\\n",
    "    .withColumn(\"norm_weight\",col(\"count\")/col(\"wt_user\")) \\\n",
    "    .orderBy(col(\"norm_weight\").desc(),\"userId\",\"trackId\").cache()\n",
    "\n",
    "task2DF.show(40)"
   ]
  },
  {
   "cell_type": "markdown",
   "metadata": {},
   "source": [
    "# Task 3\n",
    "###### Build the edges of the type “user-artist”. Take the amount of times the user has listened to the artist’s tracks as the weight of the edge from the user’s vertex to the artist’s vertex.\n",
    "###### Sort the resulting Data Frame in descending order by the column norm_weight, and then in ascending order this time first by “id1”, then by “id2”. Take top 40 rows, select only the columns “id1”, “id2”, and print the columns “id1”, “id2” of the resulting dataframe."
   ]
  },
  {
   "cell_type": "code",
   "execution_count": 104,
   "metadata": {},
   "outputs": [],
   "source": [
    "artWindow = Window.partitionBy(\"userId\").orderBy(col(\"count\").desc())\n",
    "wtArt = Window.partitionBy(\"userId\")\n",
    "usartDF= basedf.groupBy(\"userId\",\"artistId\").count().withColumn(\"row_num\",row_number().over(artWindow)) \\\n",
    "    .filter(\"row_num <= 100\").withColumn(\"wt_user\",sum(\"count\").over(wtArt)) \\\n",
    "    .withColumn(\"norm_wt\",col(\"count\")/col(\"wt_user\")) \\\n",
    "    .orderBy(col(\"norm_wt\").desc(),\"userId\",\"artistId\").cache()"
   ]
  },
  {
   "cell_type": "code",
   "execution_count": 103,
   "metadata": {},
   "outputs": [
    {
     "name": "stdout",
     "output_type": "stream",
     "text": [
      "+------+-------+--------+----------+\n",
      "|userId|trackId|artistId| timestamp|\n",
      "+------+-------+--------+----------+\n",
      "|   131| 880170|  983068|1501576153|\n",
      "+------+-------+--------+----------+\n",
      "\n"
     ]
    }
   ],
   "source": [
    "basedf.filter(\"userId==131\").show()"
   ]
  },
  {
   "cell_type": "code",
   "execution_count": 105,
   "metadata": {
    "scrolled": true
   },
   "outputs": [
    {
     "name": "stdout",
     "output_type": "stream",
     "text": [
      "+------+--------+-----+-------+-------+-------+\n",
      "|userId|artistId|count|row_num|wt_user|norm_wt|\n",
      "+------+--------+-----+-------+-------+-------+\n",
      "|    66|  993426|    1|      1|      1|    1.0|\n",
      "|   116|  974937|    1|      1|      1|    1.0|\n",
      "|   128| 1003021|    1|      1|      1|    1.0|\n",
      "|   131|  983068|    1|      1|      1|    1.0|\n",
      "|   195|  997265|    5|      1|      5|    1.0|\n",
      "|   215|  991696|    1|      1|      1|    1.0|\n",
      "|   235|  990642|    1|      1|      1|    1.0|\n",
      "|   288| 1000564|   13|      1|     13|    1.0|\n",
      "|   300| 1003362|    1|      1|      1|    1.0|\n",
      "|   321|  986172|    1|      1|      1|    1.0|\n",
      "|   328|  967986|    1|      1|      1|    1.0|\n",
      "|   333| 1000416|    1|      1|      1|    1.0|\n",
      "|   346|  982037|    1|      1|      1|    1.0|\n",
      "|   356|  974846|    1|      1|      1|    1.0|\n",
      "|   374| 1003167|    4|      1|      4|    1.0|\n",
      "|   428|  993161|    3|      1|      3|    1.0|\n",
      "|   431|  969340|    1|      1|      1|    1.0|\n",
      "|   445|  970387|    1|      1|      1|    1.0|\n",
      "|   488|  970525|    2|      1|      2|    1.0|\n",
      "|   542|  969751|    2|      1|      2|    1.0|\n",
      "|   612|  987351|    2|      1|      2|    1.0|\n",
      "|   617|  970240|    1|      1|      1|    1.0|\n",
      "|   649|  973851|    1|      1|      1|    1.0|\n",
      "|   658|  973232|    1|      1|      1|    1.0|\n",
      "|   662|  975279|    1|      1|      1|    1.0|\n",
      "|   698|  995788|    1|      1|      1|    1.0|\n",
      "|   708|  968848|    1|      1|      1|    1.0|\n",
      "|   746|  972032|    1|      1|      1|    1.0|\n",
      "|   747|  972032|    1|      1|      1|    1.0|\n",
      "|   776|  997265|    2|      1|      2|    1.0|\n",
      "|   784|  969853|    2|      1|      2|    1.0|\n",
      "|   806|  995126|    1|      1|      1|    1.0|\n",
      "|   811|  996436|    1|      1|      1|    1.0|\n",
      "|   837|  989262|    1|      1|      1|    1.0|\n",
      "|   901|  988199|    1|      1|      1|    1.0|\n",
      "|   923|  977066|    1|      1|      1|    1.0|\n",
      "|   934|  990860|    2|      1|      2|    1.0|\n",
      "|   957|  991171|    1|      1|      1|    1.0|\n",
      "|   989|  975339|    1|      1|      1|    1.0|\n",
      "|   999|  968823|    1|      1|      1|    1.0|\n",
      "+------+--------+-----+-------+-------+-------+\n",
      "only showing top 40 rows\n",
      "\n"
     ]
    }
   ],
   "source": [
    "#usartDF.filter(\"count!=wt_user\").show(40)\n",
    "usartDF.show(40)"
   ]
  },
  {
   "cell_type": "markdown",
   "metadata": {},
   "source": [
    "# Task 4\n",
    "###### Build the edges of the type “artist-track”. Take the amount of times the track HAS BEEN listened by all users as the weight of the edge from the artist’s vertex to the track’s vertex.\n",
    "###### Sort the resulting Data Frame in descending order by the column norm_weight, and then in ascending order this time first by “id1”, then by “id2”. Take top 40 rows, select only the columns “id1”, “id2”, and print the columns “id1”, “id2” of the resulting dataframe."
   ]
  },
  {
   "cell_type": "code",
   "execution_count": 107,
   "metadata": {},
   "outputs": [],
   "source": [
    "artTrackWindow = Window.partitionBy(\"artistId\").orderBy(col(\"count\").desc())\n",
    "partArt = Window.partitionBy(\"artistId\")\n",
    "artTracDF= basedf.groupBy(\"artistId\",\"trackId\").count().withColumn(\"row_num\",row_number().over(artTrackWindow)) \\\n",
    "    .filter(\"row_num <= 100\").withColumn(\"wt_user\",sum(\"count\").over(partArt)) \\\n",
    "    .withColumn(\"norm_wt\",col(\"count\")/col(\"wt_user\")) \\\n",
    "    .orderBy(col(\"norm_wt\").desc(),\"artistId\",\"trackId\").cache()"
   ]
  },
  {
   "cell_type": "code",
   "execution_count": 108,
   "metadata": {},
   "outputs": [
    {
     "name": "stdout",
     "output_type": "stream",
     "text": [
      "+--------+-------+-----+-------+-------+-------+\n",
      "|artistId|trackId|count|row_num|wt_user|norm_wt|\n",
      "+--------+-------+-----+-------+-------+-------+\n",
      "|  967993| 869415|    2|      1|      2|    1.0|\n",
      "|  967998| 947428|    3|      1|      3|    1.0|\n",
      "|  968004| 927380|    1|      1|      1|    1.0|\n",
      "|  968017| 859321|    1|      1|      1|    1.0|\n",
      "|  968022| 852786|    1|      1|      1|    1.0|\n",
      "|  968034| 807671|    1|      1|      1|    1.0|\n",
      "|  968038| 964150|    1|      1|      1|    1.0|\n",
      "|  968042| 835935|    1|      1|      1|    1.0|\n",
      "|  968043| 913568|    1|      1|      1|    1.0|\n",
      "|  968046| 935077|    1|      1|      1|    1.0|\n",
      "|  968047| 806127|    3|      1|      3|    1.0|\n",
      "|  968065| 907906|   12|      1|     12|    1.0|\n",
      "|  968073| 964586|    1|      1|      1|    1.0|\n",
      "|  968086| 813446|    3|      1|      3|    1.0|\n",
      "|  968092| 837129|    4|      1|      4|    1.0|\n",
      "|  968118| 914441|    2|      1|      2|    1.0|\n",
      "|  968125| 821410|    1|      1|      1|    1.0|\n",
      "|  968140| 953008|    1|      1|      1|    1.0|\n",
      "|  968148| 877445|    1|      1|      1|    1.0|\n",
      "|  968161| 809793|    1|      1|      1|    1.0|\n",
      "|  968163| 803065|    3|      1|      3|    1.0|\n",
      "|  968168| 876119|    1|      1|      1|    1.0|\n",
      "|  968189| 858639|    2|      1|      2|    1.0|\n",
      "|  968221| 896937|    2|      1|      2|    1.0|\n",
      "|  968224| 892880|    1|      1|      1|    1.0|\n",
      "|  968232| 825536|    4|      1|      4|    1.0|\n",
      "|  968237| 932845|    1|      1|      1|    1.0|\n",
      "|  968238| 939177|    1|      1|      1|    1.0|\n",
      "|  968241| 879045|    1|      1|      1|    1.0|\n",
      "|  968242| 911250|    1|      1|      1|    1.0|\n",
      "|  968248| 953554|    1|      1|      1|    1.0|\n",
      "|  968255| 808494|    1|      1|      1|    1.0|\n",
      "|  968259| 880230|    1|      1|      1|    1.0|\n",
      "|  968265| 950148|    2|      1|      2|    1.0|\n",
      "|  968266| 824437|    1|      1|      1|    1.0|\n",
      "|  968269| 913243|    1|      1|      1|    1.0|\n",
      "|  968272| 816049|    1|      1|      1|    1.0|\n",
      "|  968278| 946743|    2|      1|      2|    1.0|\n",
      "|  968285| 847460|    1|      1|      1|    1.0|\n",
      "|  968286| 940006|    3|      1|      3|    1.0|\n",
      "+--------+-------+-----+-------+-------+-------+\n",
      "only showing top 40 rows\n",
      "\n"
     ]
    }
   ],
   "source": [
    "artTracDF.show(40)"
   ]
  }
 ],
 "metadata": {
  "kernelspec": {
   "display_name": "Python 2",
   "language": "python",
   "name": "python2"
  },
  "language_info": {
   "codemirror_mode": {
    "name": "ipython",
    "version": 2
   },
   "file_extension": ".py",
   "mimetype": "text/x-python",
   "name": "python",
   "nbconvert_exporter": "python",
   "pygments_lexer": "ipython2",
   "version": "2.7.12"
  }
 },
 "nbformat": 4,
 "nbformat_minor": 2
}
