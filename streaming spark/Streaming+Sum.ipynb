{
 "cells": [
  {
   "cell_type": "markdown",
   "metadata": {},
   "source": [
    "### Demo task\n",
    "\n",
    "Given a sequence of numbers ($0, 1, 2, ... N$) arriving in real time. You need to calculate the sum of this sequence.\n",
    "Use sateful approach to store and update the current result.\n",
    "\n",
    "The output should be one number.\n",
    "\n",
    "**Example**\n",
    "* Input sequence: `0, 1, 2, 3`.\n",
    "* Output: `6`\n"
   ]
  },
  {
   "cell_type": "code",
   "execution_count": 1,
   "metadata": {},
   "outputs": [],
   "source": [
    "import os\n",
    "from time import sleep\n",
    "from pyspark import SparkContext\n",
    "from pyspark.streaming import StreamingContext\n",
    "\n",
    "sc = SparkContext(master='local[4]')\n"
   ]
  },
  {
   "cell_type": "code",
   "execution_count": 2,
   "metadata": {},
   "outputs": [],
   "source": [
    "\n",
    "NUM_BATCHES = 10  # the amount of numbers in sequence\n",
    "batches = [sc.parallelize([num]) for num in range(NUM_BATCHES)]\n",
    "# print([b.collect() for b in batches])\n",
    "BATCH_TIMEOUT = 5 # Timeout between batch generation\n",
    "ssc = StreamingContext(sc, BATCH_TIMEOUT)\n",
    "dstream = ssc.queueStream(rdds=batches)"
   ]
  },
  {
   "cell_type": "code",
   "execution_count": 3,
   "metadata": {},
   "outputs": [],
   "source": [
    "finished = False\n",
    "printed = False\n",
    "\n",
    "def set_ending_flag(rdd):\n",
    "    global finished\n",
    "    if rdd.isEmpty():\n",
    "        finished = True\n",
    "\n",
    "def print_only_at_the_end(rdd):\n",
    "    global printed\n",
    "    if finished and not printed:\n",
    "        print(\"printing RDD\")\n",
    "        print(rdd.collect())\n",
    "        printed = True\n",
    "\n",
    "# If we have received empty rdd, the stream is finished.\n",
    "# So print the result and stop the context.\n",
    "\n",
    "dstream.foreachRDD(set_ending_flag)"
   ]
  },
  {
   "cell_type": "code",
   "execution_count": 4,
   "metadata": {},
   "outputs": [],
   "source": [
    "def aggregator(values, old):\n",
    "    return (old or 0) + sum(values)\n",
    "\n",
    "dstream.map(lambda num: ('res', num))\\\n",
    "    .updateStateByKey(aggregator)\\\n",
    "    .foreachRDD(print_only_at_the_end)"
   ]
  },
  {
   "cell_type": "code",
   "execution_count": 5,
   "metadata": {},
   "outputs": [
    {
     "name": "stdout",
     "output_type": "stream",
     "text": [
      "printing RDD\n",
      "[('res', 45)]\n"
     ]
    }
   ],
   "source": [
    "ssc.checkpoint('./checkpoint2')  # checkpoint for storing current state  \n",
    "ssc.start()\n",
    "# while not printed:\n",
    "#     pass\n",
    "# ssc.stop()\n",
    "# sc.stop()"
   ]
  },
  {
   "cell_type": "code",
   "execution_count": null,
   "metadata": {},
   "outputs": [],
   "source": []
  }
 ],
 "metadata": {
  "kernelspec": {
   "display_name": "Python 3",
   "language": "python",
   "name": "python3"
  },
  "language_info": {
   "codemirror_mode": {
    "name": "ipython",
    "version": 3
   },
   "file_extension": ".py",
   "mimetype": "text/x-python",
   "name": "python",
   "nbconvert_exporter": "python",
   "pygments_lexer": "ipython3",
   "version": "3.6.2"
  }
 },
 "nbformat": 4,
 "nbformat_minor": 2
}
